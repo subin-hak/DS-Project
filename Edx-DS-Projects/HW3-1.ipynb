{
 "cells": [
  {
   "cell_type": "markdown",
   "metadata": {},
   "source": [
    "# Using Python for Research Homework: Week 3, Case Study 1\n",
    "\n",
    "A cipher is a secret code for a language.  In this case study, we will explore a cipher that is reported by contemporary Greek historians to have been used by Julius Caesar to send secret messages to generals during times of war."
   ]
  },
  {
   "cell_type": "markdown",
   "metadata": {},
   "source": [
    "### Exercise 1\n",
    "\n",
    "A cipher is a secret code for a language. In this case study, we will explore a cipher that is reported by contemporary Greek historians to have been used by Julius Caesar to send secret messages to generals during times of war.\n",
    "\n",
    "The Caesar cipher shifts each letter of a message to another letter in the alphabet located a fixed distance from the original letter. If our encryption key were `1`, we would shift `h` to the next letter `i`, `i` to the next letter `j`, and so on. If we reach the end of the alphabet, which for us is the space character, we simply loop back to `a`. To decode the message, we make a similar shift, except we move the same number of steps backwards in the alphabet.\n",
    "\n",
    "Over the next five exercises, we will create our own Caesar cipher, as well as a message decoder for this cipher. In this exercise, we will define the alphabet used in the cipher.\n",
    "\n",
    "#### Instructions\n",
    "- The `string` library has been imported. Create a string called `alphabet` consisting of the space character `' '` followed by (concatenated with) the lowercase letters. Note that we're only using the lowercase letters in this exercise."
   ]
  },
  {
   "cell_type": "code",
   "execution_count": 1,
   "metadata": {},
   "outputs": [
    {
     "name": "stdout",
     "output_type": "stream",
     "text": [
      " abcdefghijklmnopqrstuvwxyz\n"
     ]
    }
   ],
   "source": [
    "import string\n",
    "# write your code here!\n",
    "alphabet = ' '+string.ascii_lowercase\n",
    "\n",
    "# print(alphabet)"
   ]
  },
  {
   "cell_type": "markdown",
   "metadata": {},
   "source": [
    "### Exercise 2 \n",
    "\n",
    "In this exercise, we will define a dictionary that specifies the index of each character in `alphabet`.\n",
    "\n",
    "#### Instructions \n",
    "- `alphabet` has already defined in the last exercise. Create a dictionary with keys consisting of the characters in alphabet and values consisting of the numbers from 0 to 26.\n",
    "- Store this as `positions`."
   ]
  },
  {
   "cell_type": "code",
   "execution_count": 2,
   "metadata": {},
   "outputs": [
    {
     "name": "stdout",
     "output_type": "stream",
     "text": [
      "{' ': 0, 'a': 1, 'b': 2, 'c': 3, 'd': 4, 'e': 5, 'f': 6, 'g': 7, 'h': 8, 'i': 9, 'j': 10, 'k': 11, 'l': 12, 'm': 13, 'n': 14, 'o': 15, 'p': 16, 'q': 17, 'r': 18, 's': 19, 't': 20, 'u': 21, 'v': 22, 'w': 23, 'x': 24, 'y': 25, 'z': 26}\n"
     ]
    }
   ],
   "source": [
    "# write your code here!\n",
    "positions  = {}\n",
    "value = 0\n",
    "for letter in alphabet:\n",
    "    positions[letter] = value\n",
    "    value +=1\n",
    "    \n",
    "# print (positions)"
   ]
  },
  {
   "cell_type": "markdown",
   "metadata": {},
   "source": [
    "### Exercise 3\n",
    "\n",
    "In this exercise, we will encode a message with a Caesar cipher.\n",
    "\n",
    "#### Instructions \n",
    "\n",
    "- `alphabet` and `positions` have already been defined in previous exercises. Use `positions` to create an encoded message based on message where each character in message has been shifted forward by 1 position, as defined by positions.\n",
    "- **Note that you can ensure the result remains within 0-26 using result % 27**\n",
    "- Store this as `encoded_message`."
   ]
  },
  {
   "cell_type": "code",
   "execution_count": 3,
   "metadata": {},
   "outputs": [
    {
     "name": "stdout",
     "output_type": "stream",
     "text": [
      "ijanzaobnfajtadbftbs\n",
      "z\n"
     ]
    }
   ],
   "source": [
    "message = \"hi my name is caesar\"\n",
    "\n",
    "encoded_message =\"\"\n",
    "for m in message:\n",
    "    position = positions[m]\n",
    "    index = (position+1)%27\n",
    "    encoded_message += alphabet[index]\n",
    "\n",
    "# print(encoded_message)\n",
    "# print(alphabet[26])"
   ]
  },
  {
   "cell_type": "markdown",
   "metadata": {},
   "source": [
    "### Exercise 4\n",
    "\n",
    "In this exercise, we will define a function that encodes a message with any given encryption key.\n",
    "\n",
    "#### Instructions \n",
    "- `alphabet`, `position` and `message` remain defined from previous exercises. Define a function `encoding` that takes a message as input as well as an int encryption key `key` to encode a message with the Caesar cipher by shifting each letter in message by key positions.\n",
    "- Your function should return a string consisting of these encoded letters.\n",
    "- Use `encoding` to encode message using `key = 3` and save the result as `encoded_message`.\n",
    "Print `encoded_message`."
   ]
  },
  {
   "cell_type": "code",
   "execution_count": 4,
   "metadata": {},
   "outputs": [
    {
     "data": {
      "text/plain": [
       "'klcpacqdphclvcfdhvdu'"
      ]
     },
     "execution_count": 4,
     "metadata": {},
     "output_type": "execute_result"
    }
   ],
   "source": [
    "# write your code here \n",
    "def encoding(message,key):\n",
    "    encoded_message =\"\"\n",
    "    for m in message:\n",
    "        position = positions[m]\n",
    "        index = (position+key)%27\n",
    "        encoded_message += alphabet[index]\n",
    "    return(encoded_message)\n",
    "\n",
    "encoding(message,3)"
   ]
  },
  {
   "cell_type": "markdown",
   "metadata": {},
   "source": [
    "### Exercise 5\n",
    "\n",
    "In this exercise, we will decode an encoded message.\n",
    "\n",
    "#### Instructions \n",
    "- Use `encoding` to decode `encoded_message`.\n",
    "- Store your encoded message as `decoded_message`.\n",
    "- Print `decoded_message`. Does this recover your original message?"
   ]
  },
  {
   "cell_type": "code",
   "execution_count": 9,
   "metadata": {},
   "outputs": [
    {
     "name": "stdout",
     "output_type": "stream",
     "text": [
      "hi my name is caesar\n"
     ]
    }
   ],
   "source": [
    "\n",
    "decoded_message = encoding(\"klcpacqdphclvcfdhvdu\",-3)\n",
    "\n",
    "# print(decoded_message)"
   ]
  },
  {
   "cell_type": "code",
   "execution_count": 6,
   "metadata": {},
   "outputs": [
    {
     "name": "stdout",
     "output_type": "stream",
     "text": [
      "Counter({'qius': 5, 'hnxioh': 4, 'acowjdee': 1, 'eeee': 1, 'wdfcx': 1, 'sdce': 1})\n"
     ]
    },
    {
     "data": {
      "text/plain": [
       "(6, 5)"
      ]
     },
     "execution_count": 6,
     "metadata": {},
     "output_type": "execute_result"
    }
   ],
   "source": [
    "from collections import Counter\n",
    "\n",
    "def count_words_fast(text): \n",
    "    text = text.lower() \n",
    "    skips = [\".\", \",\", \";\", \":\", \"'\", '\"', \"\\n\", \"!\", \"?\", \"(\", \")\"] \n",
    "    for ch in skips: \n",
    "        text = text.replace(ch, \"\") \n",
    "    word_counts = Counter(text.split(\" \")) \n",
    "    return word_counts\n",
    "\n",
    "def word_stats(word_counts): \n",
    "    num_unique = len(word_counts) \n",
    "    counts = word_counts.values() \n",
    "    return (num_unique, max(counts))\n",
    "\n",
    "word_seq = count_words_fast(\"qius hnxioh qius hnxioh qius hnxioh qius qius hnxioh acowjdee eeee WDFCX SDCe\")\n",
    "# print(count_words_fast(\"qius hnxioh qius hnxioh qius hnxioh qius qius hnxioh acowjdee eeee WDFCX SDCe\"))\n",
    "word_stats(word_seq)"
   ]
  },
  {
   "cell_type": "code",
   "execution_count": 7,
   "metadata": {},
   "outputs": [
    {
     "ename": "SyntaxError",
     "evalue": "invalid character in identifier (<ipython-input-7-b9c4cbb5ca4c>, line 2)",
     "output_type": "error",
     "traceback": [
      "\u001b[1;36m  File \u001b[1;32m\"<ipython-input-7-b9c4cbb5ca4c>\"\u001b[1;36m, line \u001b[1;32m2\u001b[0m\n\u001b[1;33m    n=int(input())\u001b[0m\n\u001b[1;37m    ^\u001b[0m\n\u001b[1;31mSyntaxError\u001b[0m\u001b[1;31m:\u001b[0m invalid character in identifier\n"
     ]
    }
   ],
   "source": [
    "def main():\n",
    "   num = int(input())\n",
    "   list1=[int(x) for x in input().split()]\n",
    "   list2=[int(x) for x in input().split()]\n",
    "   list3=[]\n",
    "   for x in range(0,n):\n",
    "       k=list2[x]//list1[x]\n",
    "       list3.append(k)\n",
    "   print(min(list3))  \n",
    "\n"
   ]
  },
  {
   "cell_type": "code",
   "execution_count": null,
   "metadata": {},
   "outputs": [],
   "source": [
    "main()"
   ]
  }
 ],
 "metadata": {
  "kernelspec": {
   "display_name": "Python 3",
   "language": "python",
   "name": "python3"
  },
  "language_info": {
   "codemirror_mode": {
    "name": "ipython",
    "version": 3
   },
   "file_extension": ".py",
   "mimetype": "text/x-python",
   "name": "python",
   "nbconvert_exporter": "python",
   "pygments_lexer": "ipython3",
   "version": "3.7.6"
  }
 },
 "nbformat": 4,
 "nbformat_minor": 4
}
